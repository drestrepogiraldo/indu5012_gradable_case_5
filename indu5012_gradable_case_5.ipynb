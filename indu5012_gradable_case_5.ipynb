{
 "cells": [
  {
   "cell_type": "markdown",
   "source": "# Gradable Case 5",
   "metadata": {
    "cell_id": "9b59ef3b69504523a6220f4f4f2e4f97",
    "tags": [],
    "deepnote_cell_type": "markdown",
    "deepnote_cell_height": 82
   }
  },
  {
   "cell_type": "markdown",
   "source": "## Introduction\n\n**Problem.** You are tasked  to build a classification model to predict the segment that a customer belongs to based on features extracted from the person.\n\n**Analytical Context.** The data is in a .csv file which can directly be read in. Throughout the case, you will be using the Python `scikitlearn` package to create and analyze classification models and their prediction capacity.",
   "metadata": {
    "cell_id": "23ff29245baf4fec9a507753b35ee0a3",
    "tags": [],
    "deepnote_cell_type": "markdown",
    "deepnote_cell_height": 189.5625
   }
  },
  {
   "cell_type": "markdown",
   "source": "## Packages Import",
   "metadata": {
    "cell_id": "7cc0165738b44be7b87db502c2478915",
    "tags": [],
    "deepnote_cell_type": "markdown",
    "deepnote_cell_height": 70
   }
  },
  {
   "cell_type": "code",
   "metadata": {
    "cell_id": "3ffc9100ee1c46ea93b6b5495e363dfc",
    "tags": [],
    "deepnote_to_be_reexecuted": false,
    "source_hash": "471f39dc",
    "execution_start": 1652717438719,
    "execution_millis": 11592,
    "deepnote_cell_type": "code",
    "deepnote_cell_height": 383.25
   },
   "source": "!pip install statsmodels",
   "execution_count": null,
   "outputs": [
    {
     "name": "stdout",
     "text": "Requirement already satisfied: statsmodels in /root/venv/lib/python3.7/site-packages (0.13.2)\nRequirement already satisfied: packaging>=21.3 in /shared-libs/python3.7/py/lib/python3.7/site-packages (from statsmodels) (21.3)\nRequirement already satisfied: scipy>=1.3 in /shared-libs/python3.7/py/lib/python3.7/site-packages (from statsmodels) (1.7.3)\nRequirement already satisfied: patsy>=0.5.2 in /root/venv/lib/python3.7/site-packages (from statsmodels) (0.5.2)\nRequirement already satisfied: pandas>=0.25 in /shared-libs/python3.7/py/lib/python3.7/site-packages (from statsmodels) (1.2.5)\nRequirement already satisfied: numpy>=1.17 in /shared-libs/python3.7/py/lib/python3.7/site-packages (from statsmodels) (1.21.6)\nRequirement already satisfied: pyparsing!=3.0.5,>=2.0.2 in /shared-libs/python3.7/py/lib/python3.7/site-packages (from packaging>=21.3->statsmodels) (3.0.8)\nRequirement already satisfied: six in /shared-libs/python3.7/py-core/lib/python3.7/site-packages (from patsy>=0.5.2->statsmodels) (1.16.0)\nRequirement already satisfied: python-dateutil>=2.7.3 in /shared-libs/python3.7/py-core/lib/python3.7/site-packages (from pandas>=0.25->statsmodels) (2.8.2)\nRequirement already satisfied: pytz>=2017.3 in /shared-libs/python3.7/py/lib/python3.7/site-packages (from pandas>=0.25->statsmodels) (2022.1)\n\u001b[33mWARNING: You are using pip version 20.1.1; however, version 22.1 is available.\nYou should consider upgrading via the '/root/venv/bin/python -m pip install --upgrade pip' command.\u001b[0m\n",
     "output_type": "stream"
    }
   ]
  },
  {
   "cell_type": "code",
   "metadata": {
    "cell_id": "68384d508d0a41788760b193fbf45b72",
    "tags": [],
    "deepnote_to_be_reexecuted": false,
    "source_hash": "459c1f50",
    "execution_start": 1652717450354,
    "execution_millis": 6653,
    "deepnote_cell_type": "code",
    "deepnote_cell_height": 225
   },
   "source": "import numpy as np\nimport pandas as pd\nimport seaborn as sns\nimport matplotlib.pyplot as plt\n\nfrom sklearn.ensemble import BaggingClassifier,RandomForestClassifier,GradientBoostingClassifier\nfrom sklearn.model_selection import cross_val_score\nfrom sklearn.metrics import  RocCurveDisplay\nfrom sklearn.model_selection import GridSearchCV",
   "execution_count": null,
   "outputs": []
  },
  {
   "cell_type": "markdown",
   "source": "## Data Import\n\nAll data used on this case is pulished under a [Public Domain](http://creativecommons.org/publicdomain/zero/1.0/) license from [Kaggle](https://www.kaggle.com/datasets/kaushiksuresh147/customer-segmentation?resource=download).\n\nData tables are usually accompanied by a data dictionary that explains the content of the information contained in one of the columns and some times provides some business context.\nIn the case of these data, the dictionary can be obtained at: [Data Dictionary](https://www.kaggle.com/datasets/kaushiksuresh147/customer-segmentation?resource=download)",
   "metadata": {
    "cell_id": "6902a1e8e90b4988b2619029ba9b56a0",
    "tags": [],
    "deepnote_cell_type": "markdown",
    "deepnote_cell_height": 189.5625
   }
  },
  {
   "cell_type": "code",
   "metadata": {
    "cell_id": "32f348db1cfe45b38544e509f07a9a2c",
    "tags": [],
    "deepnote_to_be_reexecuted": false,
    "source_hash": "10453990",
    "execution_start": 1652717457047,
    "execution_millis": 683,
    "deepnote_cell_type": "code",
    "deepnote_cell_height": 413
   },
   "source": "df_train_customer = pd.read_csv('/work/indu5012_gradable_case_5/data/Train.csv')\ndf_train_customer.head(5)",
   "execution_count": null,
   "outputs": [
    {
     "output_type": "execute_result",
     "execution_count": 3,
     "data": {
      "application/vnd.deepnote.dataframe.v3+json": {
       "column_count": 11,
       "row_count": 5,
       "columns": [
        {
         "name": "ID",
         "dtype": "int64",
         "stats": {
          "unique_count": 5,
          "nan_count": 0,
          "min": "461735",
          "max": "466315",
          "histogram": [
           {
            "bin_start": 461735,
            "bin_end": 462193,
            "count": 1
           },
           {
            "bin_start": 462193,
            "bin_end": 462651,
            "count": 1
           },
           {
            "bin_start": 462651,
            "bin_end": 463109,
            "count": 2
           },
           {
            "bin_start": 463109,
            "bin_end": 463567,
            "count": 0
           },
           {
            "bin_start": 463567,
            "bin_end": 464025,
            "count": 0
           },
           {
            "bin_start": 464025,
            "bin_end": 464483,
            "count": 0
           },
           {
            "bin_start": 464483,
            "bin_end": 464941,
            "count": 0
           },
           {
            "bin_start": 464941,
            "bin_end": 465399,
            "count": 0
           },
           {
            "bin_start": 465399,
            "bin_end": 465857,
            "count": 0
           },
           {
            "bin_start": 465857,
            "bin_end": 466315,
            "count": 1
           }
          ]
         }
        },
        {
         "name": "Gender",
         "dtype": "object",
         "stats": {
          "unique_count": 2,
          "nan_count": 0,
          "categories": [
           {
            "name": "Female",
            "count": 3
           },
           {
            "name": "Male",
            "count": 2
           }
          ]
         }
        },
        {
         "name": "Ever_Married",
         "dtype": "object",
         "stats": {
          "unique_count": 2,
          "nan_count": 0,
          "categories": [
           {
            "name": "Yes",
            "count": 4
           },
           {
            "name": "No",
            "count": 1
           }
          ]
         }
        },
        {
         "name": "Age",
         "dtype": "int64",
         "stats": {
          "unique_count": 4,
          "nan_count": 0,
          "min": "22",
          "max": "67",
          "histogram": [
           {
            "bin_start": 22,
            "bin_end": 26.5,
            "count": 1
           },
           {
            "bin_start": 26.5,
            "bin_end": 31,
            "count": 0
           },
           {
            "bin_start": 31,
            "bin_end": 35.5,
            "count": 0
           },
           {
            "bin_start": 35.5,
            "bin_end": 40,
            "count": 1
           },
           {
            "bin_start": 40,
            "bin_end": 44.5,
            "count": 1
           },
           {
            "bin_start": 44.5,
            "bin_end": 49,
            "count": 0
           },
           {
            "bin_start": 49,
            "bin_end": 53.5,
            "count": 0
           },
           {
            "bin_start": 53.5,
            "bin_end": 58,
            "count": 0
           },
           {
            "bin_start": 58,
            "bin_end": 62.5,
            "count": 0
           },
           {
            "bin_start": 62.5,
            "bin_end": 67,
            "count": 2
           }
          ]
         }
        },
        {
         "name": "Graduated",
         "dtype": "object",
         "stats": {
          "unique_count": 2,
          "nan_count": 0,
          "categories": [
           {
            "name": "Yes",
            "count": 4
           },
           {
            "name": "No",
            "count": 1
           }
          ]
         }
        },
        {
         "name": "Profession",
         "dtype": "object",
         "stats": {
          "unique_count": 4,
          "nan_count": 0,
          "categories": [
           {
            "name": "Engineer",
            "count": 2
           },
           {
            "name": "Healthcare",
            "count": 1
           },
           {
            "name": "2 others",
            "count": 2
           }
          ]
         }
        },
        {
         "name": "Work_Experience",
         "dtype": "float64",
         "stats": {
          "unique_count": 2,
          "nan_count": 2,
          "min": "0.0",
          "max": "1.0",
          "histogram": [
           {
            "bin_start": 0,
            "bin_end": 0.1,
            "count": 1
           },
           {
            "bin_start": 0.1,
            "bin_end": 0.2,
            "count": 0
           },
           {
            "bin_start": 0.2,
            "bin_end": 0.30000000000000004,
            "count": 0
           },
           {
            "bin_start": 0.30000000000000004,
            "bin_end": 0.4,
            "count": 0
           },
           {
            "bin_start": 0.4,
            "bin_end": 0.5,
            "count": 0
           },
           {
            "bin_start": 0.5,
            "bin_end": 0.6000000000000001,
            "count": 0
           },
           {
            "bin_start": 0.6000000000000001,
            "bin_end": 0.7000000000000001,
            "count": 0
           },
           {
            "bin_start": 0.7000000000000001,
            "bin_end": 0.8,
            "count": 0
           },
           {
            "bin_start": 0.8,
            "bin_end": 0.9,
            "count": 0
           },
           {
            "bin_start": 0.9,
            "bin_end": 1,
            "count": 2
           }
          ]
         }
        },
        {
         "name": "Spending_Score",
         "dtype": "object",
         "stats": {
          "unique_count": 3,
          "nan_count": 0,
          "categories": [
           {
            "name": "Low",
            "count": 2
           },
           {
            "name": "High",
            "count": 2
           },
           {
            "name": "Average",
            "count": 1
           }
          ]
         }
        },
        {
         "name": "Family_Size",
         "dtype": "float64",
         "stats": {
          "unique_count": 5,
          "nan_count": 0,
          "min": "1.0",
          "max": "6.0",
          "histogram": [
           {
            "bin_start": 1,
            "bin_end": 1.5,
            "count": 1
           },
           {
            "bin_start": 1.5,
            "bin_end": 2,
            "count": 0
           },
           {
            "bin_start": 2,
            "bin_end": 2.5,
            "count": 1
           },
           {
            "bin_start": 2.5,
            "bin_end": 3,
            "count": 0
           },
           {
            "bin_start": 3,
            "bin_end": 3.5,
            "count": 1
           },
           {
            "bin_start": 3.5,
            "bin_end": 4,
            "count": 0
           },
           {
            "bin_start": 4,
            "bin_end": 4.5,
            "count": 1
           },
           {
            "bin_start": 4.5,
            "bin_end": 5,
            "count": 0
           },
           {
            "bin_start": 5,
            "bin_end": 5.5,
            "count": 0
           },
           {
            "bin_start": 5.5,
            "bin_end": 6,
            "count": 1
           }
          ]
         }
        },
        {
         "name": "Var_1",
         "dtype": "object",
         "stats": {
          "unique_count": 2,
          "nan_count": 0,
          "categories": [
           {
            "name": "Cat_6",
            "count": 3
           },
           {
            "name": "Cat_4",
            "count": 2
           }
          ]
         }
        },
        {
         "name": "Segmentation",
         "dtype": "object",
         "stats": {
          "unique_count": 3,
          "nan_count": 0,
          "categories": [
           {
            "name": "A",
            "count": 2
           },
           {
            "name": "B",
            "count": 2
           },
           {
            "name": "D",
            "count": 1
           }
          ]
         }
        },
        {
         "name": "_deepnote_index_column",
         "dtype": "int64"
        }
       ],
       "rows": [
        {
         "ID": 462809,
         "Gender": "Male",
         "Ever_Married": "No",
         "Age": 22,
         "Graduated": "No",
         "Profession": "Healthcare",
         "Work_Experience": 1,
         "Spending_Score": "Low",
         "Family_Size": 4,
         "Var_1": "Cat_4",
         "Segmentation": "D",
         "_deepnote_index_column": 0
        },
        {
         "ID": 462643,
         "Gender": "Female",
         "Ever_Married": "Yes",
         "Age": 38,
         "Graduated": "Yes",
         "Profession": "Engineer",
         "Work_Experience": "nan",
         "Spending_Score": "Average",
         "Family_Size": 3,
         "Var_1": "Cat_4",
         "Segmentation": "A",
         "_deepnote_index_column": 1
        },
        {
         "ID": 466315,
         "Gender": "Female",
         "Ever_Married": "Yes",
         "Age": 67,
         "Graduated": "Yes",
         "Profession": "Engineer",
         "Work_Experience": 1,
         "Spending_Score": "Low",
         "Family_Size": 1,
         "Var_1": "Cat_6",
         "Segmentation": "B",
         "_deepnote_index_column": 2
        },
        {
         "ID": 461735,
         "Gender": "Male",
         "Ever_Married": "Yes",
         "Age": 67,
         "Graduated": "Yes",
         "Profession": "Lawyer",
         "Work_Experience": 0,
         "Spending_Score": "High",
         "Family_Size": 2,
         "Var_1": "Cat_6",
         "Segmentation": "B",
         "_deepnote_index_column": 3
        },
        {
         "ID": 462669,
         "Gender": "Female",
         "Ever_Married": "Yes",
         "Age": 40,
         "Graduated": "Yes",
         "Profession": "Entertainment",
         "Work_Experience": "nan",
         "Spending_Score": "High",
         "Family_Size": 6,
         "Var_1": "Cat_6",
         "Segmentation": "A",
         "_deepnote_index_column": 4
        }
       ]
      },
      "text/plain": "       ID  Gender Ever_Married  Age Graduated     Profession  Work_Experience  \\\n0  462809    Male           No   22        No     Healthcare              1.0   \n1  462643  Female          Yes   38       Yes       Engineer              NaN   \n2  466315  Female          Yes   67       Yes       Engineer              1.0   \n3  461735    Male          Yes   67       Yes         Lawyer              0.0   \n4  462669  Female          Yes   40       Yes  Entertainment              NaN   \n\n  Spending_Score  Family_Size  Var_1 Segmentation  \n0            Low          4.0  Cat_4            D  \n1        Average          3.0  Cat_4            A  \n2            Low          1.0  Cat_6            B  \n3           High          2.0  Cat_6            B  \n4           High          6.0  Cat_6            A  ",
      "text/html": "<div>\n<style scoped>\n    .dataframe tbody tr th:only-of-type {\n        vertical-align: middle;\n    }\n\n    .dataframe tbody tr th {\n        vertical-align: top;\n    }\n\n    .dataframe thead th {\n        text-align: right;\n    }\n</style>\n<table border=\"1\" class=\"dataframe\">\n  <thead>\n    <tr style=\"text-align: right;\">\n      <th></th>\n      <th>ID</th>\n      <th>Gender</th>\n      <th>Ever_Married</th>\n      <th>Age</th>\n      <th>Graduated</th>\n      <th>Profession</th>\n      <th>Work_Experience</th>\n      <th>Spending_Score</th>\n      <th>Family_Size</th>\n      <th>Var_1</th>\n      <th>Segmentation</th>\n    </tr>\n  </thead>\n  <tbody>\n    <tr>\n      <th>0</th>\n      <td>462809</td>\n      <td>Male</td>\n      <td>No</td>\n      <td>22</td>\n      <td>No</td>\n      <td>Healthcare</td>\n      <td>1.0</td>\n      <td>Low</td>\n      <td>4.0</td>\n      <td>Cat_4</td>\n      <td>D</td>\n    </tr>\n    <tr>\n      <th>1</th>\n      <td>462643</td>\n      <td>Female</td>\n      <td>Yes</td>\n      <td>38</td>\n      <td>Yes</td>\n      <td>Engineer</td>\n      <td>NaN</td>\n      <td>Average</td>\n      <td>3.0</td>\n      <td>Cat_4</td>\n      <td>A</td>\n    </tr>\n    <tr>\n      <th>2</th>\n      <td>466315</td>\n      <td>Female</td>\n      <td>Yes</td>\n      <td>67</td>\n      <td>Yes</td>\n      <td>Engineer</td>\n      <td>1.0</td>\n      <td>Low</td>\n      <td>1.0</td>\n      <td>Cat_6</td>\n      <td>B</td>\n    </tr>\n    <tr>\n      <th>3</th>\n      <td>461735</td>\n      <td>Male</td>\n      <td>Yes</td>\n      <td>67</td>\n      <td>Yes</td>\n      <td>Lawyer</td>\n      <td>0.0</td>\n      <td>High</td>\n      <td>2.0</td>\n      <td>Cat_6</td>\n      <td>B</td>\n    </tr>\n    <tr>\n      <th>4</th>\n      <td>462669</td>\n      <td>Female</td>\n      <td>Yes</td>\n      <td>40</td>\n      <td>Yes</td>\n      <td>Entertainment</td>\n      <td>NaN</td>\n      <td>High</td>\n      <td>6.0</td>\n      <td>Cat_6</td>\n      <td>A</td>\n    </tr>\n  </tbody>\n</table>\n</div>"
     },
     "metadata": {}
    }
   ]
  },
  {
   "cell_type": "code",
   "metadata": {
    "cell_id": "cd1794996dc2439088738672e5bf6fe4",
    "tags": [],
    "deepnote_to_be_reexecuted": false,
    "source_hash": "cd9579bd",
    "execution_start": 1652717457375,
    "execution_millis": 371,
    "deepnote_cell_type": "code",
    "deepnote_cell_height": 413
   },
   "source": "df_test_customer = pd.read_csv('/work/indu5012_gradable_case_5/data/Test.csv')\ndf_test_customer.head(5)",
   "execution_count": null,
   "outputs": [
    {
     "output_type": "execute_result",
     "execution_count": 4,
     "data": {
      "application/vnd.deepnote.dataframe.v3+json": {
       "column_count": 11,
       "row_count": 5,
       "columns": [
        {
         "name": "ID",
         "dtype": "int64",
         "stats": {
          "unique_count": 5,
          "nan_count": 0,
          "min": "458989",
          "max": "459001",
          "histogram": [
           {
            "bin_start": 458989,
            "bin_end": 458990.2,
            "count": 1
           },
           {
            "bin_start": 458990.2,
            "bin_end": 458991.4,
            "count": 0
           },
           {
            "bin_start": 458991.4,
            "bin_end": 458992.6,
            "count": 0
           },
           {
            "bin_start": 458992.6,
            "bin_end": 458993.8,
            "count": 0
           },
           {
            "bin_start": 458993.8,
            "bin_end": 458995,
            "count": 1
           },
           {
            "bin_start": 458995,
            "bin_end": 458996.2,
            "count": 1
           },
           {
            "bin_start": 458996.2,
            "bin_end": 458997.4,
            "count": 0
           },
           {
            "bin_start": 458997.4,
            "bin_end": 458998.6,
            "count": 0
           },
           {
            "bin_start": 458998.6,
            "bin_end": 458999.8,
            "count": 0
           },
           {
            "bin_start": 458999.8,
            "bin_end": 459001,
            "count": 2
           }
          ]
         }
        },
        {
         "name": "Gender",
         "dtype": "object",
         "stats": {
          "unique_count": 2,
          "nan_count": 0,
          "categories": [
           {
            "name": "Female",
            "count": 3
           },
           {
            "name": "Male",
            "count": 2
           }
          ]
         }
        },
        {
         "name": "Ever_Married",
         "dtype": "object",
         "stats": {
          "unique_count": 2,
          "nan_count": 0,
          "categories": [
           {
            "name": "Yes",
            "count": 4
           },
           {
            "name": "No",
            "count": 1
           }
          ]
         }
        },
        {
         "name": "Age",
         "dtype": "int64",
         "stats": {
          "unique_count": 5,
          "nan_count": 0,
          "min": "19",
          "max": "69",
          "histogram": [
           {
            "bin_start": 19,
            "bin_end": 24,
            "count": 1
           },
           {
            "bin_start": 24,
            "bin_end": 29,
            "count": 0
           },
           {
            "bin_start": 29,
            "bin_end": 34,
            "count": 0
           },
           {
            "bin_start": 34,
            "bin_end": 39,
            "count": 2
           },
           {
            "bin_start": 39,
            "bin_end": 44,
            "count": 0
           },
           {
            "bin_start": 44,
            "bin_end": 49,
            "count": 0
           },
           {
            "bin_start": 49,
            "bin_end": 54,
            "count": 0
           },
           {
            "bin_start": 54,
            "bin_end": 59,
            "count": 0
           },
           {
            "bin_start": 59,
            "bin_end": 64,
            "count": 1
           },
           {
            "bin_start": 64,
            "bin_end": 69,
            "count": 1
           }
          ]
         }
        },
        {
         "name": "Graduated",
         "dtype": "object",
         "stats": {
          "unique_count": 2,
          "nan_count": 0,
          "categories": [
           {
            "name": "No",
            "count": 3
           },
           {
            "name": "Yes",
            "count": 2
           }
          ]
         }
        },
        {
         "name": "Profession",
         "dtype": "object",
         "stats": {
          "unique_count": 4,
          "nan_count": 1,
          "categories": [
           {
            "name": "Engineer",
            "count": 1
           },
           {
            "name": "3 others",
            "count": 3
           },
           {
            "name": "Missing",
            "count": 1
           }
          ]
         }
        },
        {
         "name": "Work_Experience",
         "dtype": "float64",
         "stats": {
          "unique_count": 3,
          "nan_count": 1,
          "min": "0.0",
          "max": "11.0",
          "histogram": [
           {
            "bin_start": 0,
            "bin_end": 1.1,
            "count": 2
           },
           {
            "bin_start": 1.1,
            "bin_end": 2.2,
            "count": 0
           },
           {
            "bin_start": 2.2,
            "bin_end": 3.3000000000000003,
            "count": 0
           },
           {
            "bin_start": 3.3000000000000003,
            "bin_end": 4.4,
            "count": 0
           },
           {
            "bin_start": 4.4,
            "bin_end": 5.5,
            "count": 0
           },
           {
            "bin_start": 5.5,
            "bin_end": 6.6000000000000005,
            "count": 0
           },
           {
            "bin_start": 6.6000000000000005,
            "bin_end": 7.700000000000001,
            "count": 0
           },
           {
            "bin_start": 7.700000000000001,
            "bin_end": 8.8,
            "count": 1
           },
           {
            "bin_start": 8.8,
            "bin_end": 9.9,
            "count": 0
           },
           {
            "bin_start": 9.9,
            "bin_end": 11,
            "count": 1
           }
          ]
         }
        },
        {
         "name": "Spending_Score",
         "dtype": "object",
         "stats": {
          "unique_count": 3,
          "nan_count": 0,
          "categories": [
           {
            "name": "Low",
            "count": 3
           },
           {
            "name": "Average",
            "count": 1
           },
           {
            "name": "High",
            "count": 1
           }
          ]
         }
        },
        {
         "name": "Family_Size",
         "dtype": "float64",
         "stats": {
          "unique_count": 3,
          "nan_count": 0,
          "min": "1.0",
          "max": "4.0",
          "histogram": [
           {
            "bin_start": 1,
            "bin_end": 1.3,
            "count": 2
           },
           {
            "bin_start": 1.3,
            "bin_end": 1.6,
            "count": 0
           },
           {
            "bin_start": 1.6,
            "bin_end": 1.9,
            "count": 0
           },
           {
            "bin_start": 1.9,
            "bin_end": 2.2,
            "count": 1
           },
           {
            "bin_start": 2.2,
            "bin_end": 2.5,
            "count": 0
           },
           {
            "bin_start": 2.5,
            "bin_end": 2.8,
            "count": 0
           },
           {
            "bin_start": 2.8,
            "bin_end": 3.1,
            "count": 0
           },
           {
            "bin_start": 3.1,
            "bin_end": 3.4,
            "count": 0
           },
           {
            "bin_start": 3.4,
            "bin_end": 3.6999999999999997,
            "count": 0
           },
           {
            "bin_start": 3.6999999999999997,
            "bin_end": 4,
            "count": 2
           }
          ]
         }
        },
        {
         "name": "Var_1",
         "dtype": "object",
         "stats": {
          "unique_count": 1,
          "nan_count": 0,
          "categories": [
           {
            "name": "Cat_6",
            "count": 5
           }
          ]
         }
        },
        {
         "name": "Segmentation",
         "dtype": "object",
         "stats": {
          "unique_count": 2,
          "nan_count": 0,
          "categories": [
           {
            "name": "A",
            "count": 3
           },
           {
            "name": "B",
            "count": 2
           }
          ]
         }
        },
        {
         "name": "_deepnote_index_column",
         "dtype": "int64"
        }
       ],
       "rows": [
        {
         "ID": 458989,
         "Gender": "Female",
         "Ever_Married": "Yes",
         "Age": 36,
         "Graduated": "Yes",
         "Profession": "Engineer",
         "Work_Experience": 0,
         "Spending_Score": "Low",
         "Family_Size": 1,
         "Var_1": "Cat_6",
         "Segmentation": "B",
         "_deepnote_index_column": 0
        },
        {
         "ID": 458994,
         "Gender": "Male",
         "Ever_Married": "Yes",
         "Age": 37,
         "Graduated": "Yes",
         "Profession": "Healthcare",
         "Work_Experience": 8,
         "Spending_Score": "Average",
         "Family_Size": 4,
         "Var_1": "Cat_6",
         "Segmentation": "A",
         "_deepnote_index_column": 1
        },
        {
         "ID": 458996,
         "Gender": "Female",
         "Ever_Married": "Yes",
         "Age": 69,
         "Graduated": "No",
         "Profession": "nan",
         "Work_Experience": 0,
         "Spending_Score": "Low",
         "Family_Size": 1,
         "Var_1": "Cat_6",
         "Segmentation": "A",
         "_deepnote_index_column": 2
        },
        {
         "ID": 459000,
         "Gender": "Male",
         "Ever_Married": "Yes",
         "Age": 59,
         "Graduated": "No",
         "Profession": "Executive",
         "Work_Experience": 11,
         "Spending_Score": "High",
         "Family_Size": 2,
         "Var_1": "Cat_6",
         "Segmentation": "B",
         "_deepnote_index_column": 3
        },
        {
         "ID": 459001,
         "Gender": "Female",
         "Ever_Married": "No",
         "Age": 19,
         "Graduated": "No",
         "Profession": "Marketing",
         "Work_Experience": "nan",
         "Spending_Score": "Low",
         "Family_Size": 4,
         "Var_1": "Cat_6",
         "Segmentation": "A",
         "_deepnote_index_column": 4
        }
       ]
      },
      "text/plain": "       ID  Gender Ever_Married  Age Graduated  Profession  Work_Experience  \\\n0  458989  Female          Yes   36       Yes    Engineer              0.0   \n1  458994    Male          Yes   37       Yes  Healthcare              8.0   \n2  458996  Female          Yes   69        No         NaN              0.0   \n3  459000    Male          Yes   59        No   Executive             11.0   \n4  459001  Female           No   19        No   Marketing              NaN   \n\n  Spending_Score  Family_Size  Var_1 Segmentation  \n0            Low          1.0  Cat_6            B  \n1        Average          4.0  Cat_6            A  \n2            Low          1.0  Cat_6            A  \n3           High          2.0  Cat_6            B  \n4            Low          4.0  Cat_6            A  ",
      "text/html": "<div>\n<style scoped>\n    .dataframe tbody tr th:only-of-type {\n        vertical-align: middle;\n    }\n\n    .dataframe tbody tr th {\n        vertical-align: top;\n    }\n\n    .dataframe thead th {\n        text-align: right;\n    }\n</style>\n<table border=\"1\" class=\"dataframe\">\n  <thead>\n    <tr style=\"text-align: right;\">\n      <th></th>\n      <th>ID</th>\n      <th>Gender</th>\n      <th>Ever_Married</th>\n      <th>Age</th>\n      <th>Graduated</th>\n      <th>Profession</th>\n      <th>Work_Experience</th>\n      <th>Spending_Score</th>\n      <th>Family_Size</th>\n      <th>Var_1</th>\n      <th>Segmentation</th>\n    </tr>\n  </thead>\n  <tbody>\n    <tr>\n      <th>0</th>\n      <td>458989</td>\n      <td>Female</td>\n      <td>Yes</td>\n      <td>36</td>\n      <td>Yes</td>\n      <td>Engineer</td>\n      <td>0.0</td>\n      <td>Low</td>\n      <td>1.0</td>\n      <td>Cat_6</td>\n      <td>B</td>\n    </tr>\n    <tr>\n      <th>1</th>\n      <td>458994</td>\n      <td>Male</td>\n      <td>Yes</td>\n      <td>37</td>\n      <td>Yes</td>\n      <td>Healthcare</td>\n      <td>8.0</td>\n      <td>Average</td>\n      <td>4.0</td>\n      <td>Cat_6</td>\n      <td>A</td>\n    </tr>\n    <tr>\n      <th>2</th>\n      <td>458996</td>\n      <td>Female</td>\n      <td>Yes</td>\n      <td>69</td>\n      <td>No</td>\n      <td>NaN</td>\n      <td>0.0</td>\n      <td>Low</td>\n      <td>1.0</td>\n      <td>Cat_6</td>\n      <td>A</td>\n    </tr>\n    <tr>\n      <th>3</th>\n      <td>459000</td>\n      <td>Male</td>\n      <td>Yes</td>\n      <td>59</td>\n      <td>No</td>\n      <td>Executive</td>\n      <td>11.0</td>\n      <td>High</td>\n      <td>2.0</td>\n      <td>Cat_6</td>\n      <td>B</td>\n    </tr>\n    <tr>\n      <th>4</th>\n      <td>459001</td>\n      <td>Female</td>\n      <td>No</td>\n      <td>19</td>\n      <td>No</td>\n      <td>Marketing</td>\n      <td>NaN</td>\n      <td>Low</td>\n      <td>4.0</td>\n      <td>Cat_6</td>\n      <td>A</td>\n    </tr>\n  </tbody>\n</table>\n</div>"
     },
     "metadata": {}
    }
   ]
  },
  {
   "cell_type": "markdown",
   "source": "## Exploratory Data Analysis y Data Cleaning",
   "metadata": {
    "cell_id": "7f4d2156a1744297963cd716c856e7ab",
    "tags": [],
    "deepnote_cell_type": "markdown",
    "deepnote_cell_height": 70
   }
  },
  {
   "cell_type": "markdown",
   "source": "### Missing Values",
   "metadata": {
    "cell_id": "76c444e703ab44ac9a08e5dac5179b67",
    "tags": [],
    "deepnote_cell_type": "markdown",
    "deepnote_cell_height": 62
   }
  },
  {
   "cell_type": "code",
   "metadata": {
    "cell_id": "adf53d0e84554949b879d840150f8f1b",
    "tags": [],
    "deepnote_to_be_reexecuted": false,
    "source_hash": "50ac114c",
    "execution_start": 1652717457610,
    "execution_millis": 149,
    "deepnote_cell_type": "code",
    "deepnote_cell_height": 272,
    "deepnote_output_heights": [
     78.75
    ]
   },
   "source": "print('Train: ', df_train_customer.columns)\nprint('Test: ', df_test_customer.columns)",
   "execution_count": null,
   "outputs": [
    {
     "name": "stdout",
     "text": "Train:  Index(['ID', 'Gender', 'Ever_Married', 'Age', 'Graduated', 'Profession',\n       'Work_Experience', 'Spending_Score', 'Family_Size', 'Var_1',\n       'Segmentation'],\n      dtype='object')\nTest:  Index(['ID', 'Gender', 'Ever_Married', 'Age', 'Graduated', 'Profession',\n       'Work_Experience', 'Spending_Score', 'Family_Size', 'Var_1',\n       'Segmentation'],\n      dtype='object')\n",
     "output_type": "stream"
    }
   ]
  },
  {
   "cell_type": "code",
   "metadata": {
    "cell_id": "218efe8054f24d4c84dbb886b3a310c8",
    "tags": [],
    "deepnote_to_be_reexecuted": false,
    "source_hash": "5329a653",
    "execution_start": 1652717457698,
    "execution_millis": 1,
    "deepnote_cell_type": "code",
    "deepnote_cell_height": 150.375
   },
   "source": "print('Train: ', df_train_customer.shape)\nprint('Test: ', df_test_customer.shape)",
   "execution_count": null,
   "outputs": [
    {
     "name": "stdout",
     "text": "Train:  (8068, 11)\nTest:  (2627, 11)\n",
     "output_type": "stream"
    }
   ]
  },
  {
   "cell_type": "code",
   "metadata": {
    "cell_id": "d4cf5b0a535f4324b017fcde6e95c2c6",
    "tags": [],
    "deepnote_to_be_reexecuted": false,
    "source_hash": "2ff9695d",
    "execution_start": 1652717457742,
    "execution_millis": 27,
    "deepnote_cell_type": "code",
    "deepnote_cell_height": 595
   },
   "source": "print('Train: ', df_train_customer.isnull().sum())\nprint('Test: ', df_test_customer.isnull().sum())",
   "execution_count": null,
   "outputs": [
    {
     "name": "stdout",
     "text": "Train:  ID                   0\nGender               0\nEver_Married       140\nAge                  0\nGraduated           78\nProfession         124\nWork_Experience    829\nSpending_Score       0\nFamily_Size        335\nVar_1               76\nSegmentation         0\ndtype: int64\nTest:  ID                   0\nGender               0\nEver_Married        50\nAge                  0\nGraduated           24\nProfession          38\nWork_Experience    269\nSpending_Score       0\nFamily_Size        113\nVar_1               32\nSegmentation         0\ndtype: int64\n",
     "output_type": "stream"
    }
   ]
  },
  {
   "cell_type": "code",
   "metadata": {
    "cell_id": "d47552c383524e9e8291b67a61f69098",
    "tags": [],
    "deepnote_to_be_reexecuted": false,
    "source_hash": "f0efdbf0",
    "execution_start": 1652717457762,
    "execution_millis": 46,
    "deepnote_cell_type": "code",
    "deepnote_cell_height": 99
   },
   "source": "df_train_customer.dropna(inplace=True)\ndf_test_customer.dropna(inplace=True)",
   "execution_count": null,
   "outputs": []
  },
  {
   "cell_type": "markdown",
   "source": "### Information on the columns",
   "metadata": {
    "cell_id": "aa7ba21f3000410a90a0647fe08b86b2",
    "tags": [],
    "deepnote_cell_type": "markdown",
    "deepnote_cell_height": 62
   }
  },
  {
   "cell_type": "code",
   "metadata": {
    "cell_id": "4c6dee74cfc34650a4da0e2cf1d5e018",
    "tags": [],
    "deepnote_to_be_reexecuted": false,
    "source_hash": "c4f1f560",
    "execution_start": 1652717457819,
    "execution_millis": 8357,
    "deepnote_cell_type": "code",
    "deepnote_cell_height": 3353,
    "deepnote_output_heights": [
     264,
     264,
     265,
     264,
     264,
     264,
     265,
     265,
     265,
     266,
     264
    ]
   },
   "source": "for column in df_train_customer.columns:\n    sns.histplot(x= column,data = df_train_customer)\n    plt.show()",
   "execution_count": null,
   "outputs": [
    {
     "data": {
      "text/plain": "<Figure size 432x288 with 1 Axes>",
      "image/png": "[encoded data removed]"
     },
     "metadata": {
      "needs_background": "light",
      "image/png": {
       "width": 393,
       "height": 262
      }
     },
     "output_type": "display_data"
    },
    {
     "data": {
      "text/plain": "<Figure size 432x288 with 1 Axes>",
      "image/png": "[encoded data removed]"
     },
     "metadata": {
      "needs_background": "light",
      "image/png": {
       "width": 395,
       "height": 262
      }
     },
     "output_type": "display_data"
    },
    {
     "data": {
      "text/plain": "<Figure size 432x288 with 1 Axes>",
      "image/png": "[encoded data removed]"
     },
     "metadata": {
      "needs_background": "light",
      "image/png": {
       "width": 395,
       "height": 263
      }
     },
     "output_type": "display_data"
    },
    {
     "data": {
      "text/plain": "<Figure size 432x288 with 1 Axes>",
      "image/png": "[encoded data removed]"
     },
     "metadata": {
      "needs_background": "light",
      "image/png": {
       "width": 389,
       "height": 262
      }
     },
     "output_type": "display_data"
    },
    {
     "data": {
      "text/plain": "<Figure size 432x288 with 1 Axes>",
      "image/png": "[encoded data removed]"
     },
     "metadata": {
      "needs_background": "light",
      "image/png": {
       "width": 395,
       "height": 262
      }
     },
     "output_type": "display_data"
    },
    {
     "data": {
      "text/plain": "<Figure size 432x288 with 1 Axes>",
      "image/png": "[encoded data removed]"
     },
     "metadata": {
      "needs_background": "light",
      "image/png": {
       "width": 395,
       "height": 262
      }
     },
     "output_type": "display_data"
    },
    {
     "data": {
      "text/plain": "<Figure size 432x288 with 1 Axes>",
      "image/png": "[encoded data removed]"
     },
     "metadata": {
      "needs_background": "light",
      "image/png": {
       "width": 395,
       "height": 263
      }
     },
     "output_type": "display_data"
    },
    {
     "data": {
      "text/plain": "<Figure size 432x288 with 1 Axes>",
      "image/png": "[encoded data removed]"
     },
     "metadata": {
      "needs_background": "light",
      "image/png": {
       "width": 395,
       "height": 263
      }
     },
     "output_type": "display_data"
    },
    {
     "data": {
      "text/plain": "<Figure size 432x288 with 1 Axes>",
      "image/png": "[encoded data removed]"
     },
     "metadata": {
      "needs_background": "light",
      "image/png": {
       "width": 395,
       "height": 263
      }
     },
     "output_type": "display_data"
    },
    {
     "data": {
      "text/plain": "<Figure size 432x288 with 1 Axes>",
      "image/png": "[encoded data removed]"
     },
     "metadata": {
      "needs_background": "light",
      "image/png": {
       "width": 395,
       "height": 264
      }
     },
     "output_type": "display_data"
    },
    {
     "data": {
      "text/plain": "<Figure size 432x288 with 1 Axes>",
      "image/png": "[encoded data removed]"
     },
     "metadata": {
      "needs_background": "light",
      "image/png": {
       "width": 395,
       "height": 262
      }
     },
     "output_type": "display_data"
    }
   ]
  },
  {
   "cell_type": "code",
   "metadata": {
    "cell_id": "776d071f95d34a5fb8e7ef0a83b7c819",
    "tags": [],
    "deepnote_to_be_reexecuted": false,
    "source_hash": "86825e6f",
    "execution_start": 1652717466130,
    "execution_millis": 6753,
    "deepnote_cell_type": "code",
    "deepnote_cell_height": 3355,
    "deepnote_output_heights": [
     264,
     264,
     265,
     264,
     266,
     264,
     265,
     265,
     265,
     266,
     264
    ]
   },
   "source": "for column in df_test_customer.columns:\n    sns.histplot(x= column,data = df_test_customer)\n    plt.show()",
   "execution_count": null,
   "outputs": [
    {
     "data": {
      "text/plain": "<Figure size 432x288 with 1 Axes>",
      "image/png": "[encoded data removed]"
     },
     "metadata": {
      "needs_background": "light",
      "image/png": {
       "width": 393,
       "height": 262
      }
     },
     "output_type": "display_data"
    },
    {
     "data": {
      "text/plain": "<Figure size 432x288 with 1 Axes>",
      "image/png": "[encoded data removed]"
     },
     "metadata": {
      "needs_background": "light",
      "image/png": {
       "width": 395,
       "height": 262
      }
     },
     "output_type": "display_data"
    },
    {
     "data": {
      "text/plain": "<Figure size 432x288 with 1 Axes>",
      "image/png": "[encoded data removed]"
     },
     "metadata": {
      "needs_background": "light",
      "image/png": {
       "width": 395,
       "height": 263
      }
     },
     "output_type": "display_data"
    },
    {
     "data": {
      "text/plain": "<Figure size 432x288 with 1 Axes>",
      "image/png": "[encoded data removed]"
     },
     "metadata": {
      "needs_background": "light",
      "image/png": {
       "width": 389,
       "height": 262
      }
     },
     "output_type": "display_data"
    },
    {
     "data": {
      "text/plain": "<Figure size 432x288 with 1 Axes>",
      "image/png": "[encoded data removed]"
     },
     "metadata": {
      "needs_background": "light",
      "image/png": {
       "width": 395,
       "height": 264
      }
     },
     "output_type": "display_data"
    },
    {
     "data": {
      "text/plain": "<Figure size 432x288 with 1 Axes>",
      "image/png": "[encoded data removed]"
     },
     "metadata": {
      "needs_background": "light",
      "image/png": {
       "width": 389,
       "height": 262
      }
     },
     "output_type": "display_data"
    },
    {
     "data": {
      "text/plain": "<Figure size 432x288 with 1 Axes>",
      "image/png": "[encoded data removed]"
     },
     "metadata": {
      "needs_background": "light",
      "image/png": {
       "width": 389,
       "height": 263
      }
     },
     "output_type": "display_data"
    },
    {
     "data": {
      "text/plain": "<Figure size 432x288 with 1 Axes>",
      "image/png": "[encoded data removed]"
     },
     "metadata": {
      "needs_background": "light",
      "image/png": {
       "width": 395,
       "height": 263
      }
     },
     "output_type": "display_data"
    },
    {
     "data": {
      "text/plain": "<Figure size 432x288 with 1 Axes>",
      "image/png": "[encoded data removed]"
     },
     "metadata": {
      "needs_background": "light",
      "image/png": {
       "width": 389,
       "height": 263
      }
     },
     "output_type": "display_data"
    },
    {
     "data": {
      "text/plain": "<Figure size 432x288 with 1 Axes>",
      "image/png": "[encoded data removed]"
     },
     "metadata": {
      "needs_background": "light",
      "image/png": {
       "width": 395,
       "height": 264
      }
     },
     "output_type": "display_data"
    },
    {
     "data": {
      "text/plain": "<Figure size 432x288 with 1 Axes>",
      "image/png": "[encoded data removed]"
     },
     "metadata": {
      "needs_background": "light",
      "image/png": {
       "width": 389,
       "height": 262
      }
     },
     "output_type": "display_data"
    }
   ]
  },
  {
   "cell_type": "code",
   "metadata": {
    "cell_id": "4e2aaa29ba5c4fdbb402a4c7f5bf6a60",
    "tags": [],
    "deepnote_to_be_reexecuted": false,
    "source_hash": "a21bdd4a",
    "execution_start": 1652717472902,
    "execution_millis": 10,
    "deepnote_cell_type": "code",
    "deepnote_cell_height": 99
   },
   "source": "df_train_customer.drop(['ID'], axis=1, inplace=True)\ndf_test_customer.drop(['ID'], axis=1, inplace=True)",
   "execution_count": null,
   "outputs": []
  },
  {
   "cell_type": "markdown",
   "source": "### Econding the information",
   "metadata": {
    "cell_id": "8000765ba2a149e09792e8d3e56161b7",
    "tags": [],
    "deepnote_cell_type": "markdown",
    "deepnote_cell_height": 62
   }
  },
  {
   "cell_type": "code",
   "metadata": {
    "cell_id": "f88f746e1c3d4f958acb7a3fd8e08f7e",
    "tags": [],
    "deepnote_to_be_reexecuted": false,
    "source_hash": "835a65e7",
    "execution_start": 1652717472931,
    "execution_millis": 126,
    "deepnote_cell_type": "code",
    "deepnote_cell_height": 244.1875,
    "deepnote_output_heights": [
     21.1875
    ]
   },
   "source": "df_train_customer = pd.get_dummies(df_train_customer, columns = [\"Gender\", \"Ever_Married\", \"Graduated\", \"Profession\", \"Spending_Score\", \"Var_1\"], drop_first = True)\ndf_train_customer.head()\n\ndf_test_customer = pd.get_dummies(df_test_customer, columns = [\"Gender\", \"Ever_Married\", \"Graduated\", \"Profession\", \"Spending_Score\", \"Var_1\"], drop_first = True)\ndf_test_customer.head()\n\ndf_train_customer['Segmentation'].replace({'A':0,'B':1,'C':2,'D':3}, inplace=True)\ndf_train_customer['Segmentation'].unique()",
   "execution_count": null,
   "outputs": [
    {
     "output_type": "execute_result",
     "execution_count": 12,
     "data": {
      "text/plain": "array([3, 1, 2, 0])"
     },
     "metadata": {}
    }
   ]
  },
  {
   "cell_type": "code",
   "metadata": {
    "cell_id": "8657d3a246d54a6688d175198b74637d",
    "tags": [],
    "deepnote_to_be_reexecuted": false,
    "source_hash": "e336052b",
    "execution_start": 1652717473126,
    "execution_millis": 1,
    "deepnote_cell_type": "code",
    "deepnote_cell_height": 117
   },
   "source": "df_train_customer_sample = df_train_customer.sample(500, random_state=55555555).copy()\nX_train = df_train_customer_sample.drop(columns='Segmentation')\nY_train = df_train_customer_sample['Segmentation']",
   "execution_count": null,
   "outputs": []
  },
  {
   "cell_type": "markdown",
   "source": "## Fitting classification models\n\n**Use the `df_train_customer` dataset to train the classification model**",
   "metadata": {
    "cell_id": "50cc3ed41062434a9ba459ee27bb3fba",
    "tags": [],
    "deepnote_cell_type": "markdown",
    "deepnote_cell_height": 108.390625
   }
  },
  {
   "cell_type": "markdown",
   "source": "### Exercise 1:\n\nSelect a metric that you are going to use in order to measure your models' classificaction performance. Justify your selection.",
   "metadata": {
    "cell_id": "ee9fa63dff6f4f89b235313de85acdbb",
    "tags": [],
    "deepnote_cell_type": "markdown",
    "deepnote_cell_height": 122.78125
   }
  },
  {
   "cell_type": "markdown",
   "source": "",
   "metadata": {
    "cell_id": "7e637a50e6bb4f91b6f1dc77908bce2b",
    "tags": [],
    "deepnote_cell_type": "markdown",
    "deepnote_cell_height": 46
   }
  },
  {
   "cell_type": "markdown",
   "source": "### Exercise 2:\n\nWich parameters can be modified for a SVC model? What do they mean? What values do yo consider aceptable in order to test the model?",
   "metadata": {
    "cell_id": "e4d2cce026bc4503bbeaba532b5c66f4",
    "tags": [],
    "deepnote_cell_type": "markdown",
    "deepnote_cell_height": 122.78125
   }
  },
  {
   "cell_type": "markdown",
   "source": "",
   "metadata": {
    "cell_id": "85da1b25e8ff4a6f8adc414ab3689358",
    "tags": [],
    "deepnote_cell_type": "markdown",
    "deepnote_cell_height": 46
   }
  },
  {
   "cell_type": "markdown",
   "source": "### Exercise 3:\n\nFind the best support vector classifier model to predict the segment that a customer belongs to. In order to do that, use the cross-validation process to find the best `C` and `gamma` parameters for the prediction while using a linear kernel. Use the error metric you selected to determine the best parameters. Report the best parameters you found.",
   "metadata": {
    "cell_id": "f352b6751b0b48649744142c58fd3295",
    "tags": [],
    "deepnote_cell_type": "markdown",
    "deepnote_cell_height": 145.171875
   }
  },
  {
   "cell_type": "code",
   "metadata": {
    "cell_id": "0012fe12535c4fc8ba47db19439c411b",
    "tags": [],
    "deepnote_to_be_reexecuted": false,
    "source_hash": "b623e53d",
    "execution_start": 1652717473171,
    "execution_millis": 0,
    "owner_user_id": "6767d251-01ae-45b2-85bc-1cbd54bf2a57",
    "deepnote_cell_type": "code",
    "deepnote_cell_height": 144.1875
   },
   "source": "",
   "execution_count": null,
   "outputs": []
  },
  {
   "cell_type": "markdown",
   "source": "### Exercise 4:\n\nFind the best support vector machine model to predict the segment that a customer belongs to. In order to do that, use the cross-validation process to find the best `C` and `gamma` parameters for the prediction while using a polynomial kernel. Use the error metric you selected to determine the best parameters. Report the best parameters you found.",
   "metadata": {
    "cell_id": "366c52952b234e419c0a474366fe2d35",
    "tags": [],
    "deepnote_cell_type": "markdown",
    "deepnote_cell_height": 145.171875
   }
  },
  {
   "cell_type": "code",
   "metadata": {
    "cell_id": "94d864d6e36c47e48d7f05d11f1f8b0b",
    "tags": [],
    "deepnote_to_be_reexecuted": false,
    "source_hash": "b623e53d",
    "execution_start": 1652717473214,
    "execution_millis": 1,
    "deepnote_cell_type": "code",
    "deepnote_cell_height": 81
   },
   "source": "",
   "execution_count": null,
   "outputs": []
  },
  {
   "cell_type": "markdown",
   "source": "### Exercise 5:\n\nFind the best support vector classifier model to predict the segment that a customer belongs to. In order to do that, use the cross-validation process to find the best `C` and `gamma` parameters for the prediction while using a radial kernel. Use the error metric you selected to determine the best parameters. Report the best parameters you found.",
   "metadata": {
    "cell_id": "e6b4f234c6a8471cbc91dc6d80d78a9b",
    "tags": [],
    "deepnote_cell_type": "markdown",
    "deepnote_cell_height": 145.171875
   }
  },
  {
   "cell_type": "code",
   "metadata": {
    "cell_id": "45ef01ed2e444d37a5b7772f375642ea",
    "tags": [],
    "deepnote_to_be_reexecuted": false,
    "source_hash": "b623e53d",
    "execution_start": 1652717473215,
    "execution_millis": 44,
    "deepnote_cell_type": "code",
    "deepnote_cell_height": 66
   },
   "source": "",
   "execution_count": null,
   "outputs": []
  },
  {
   "cell_type": "markdown",
   "source": "### Exercise 6:\n\nDetermine the best classification model based on the error metric you chose.Why do you think that specific model has a better performance on the dataset? (You may consider: Kernel type, dataset distribution, performance metric)",
   "metadata": {
    "cell_id": "43079d6263ec4804ab597239d0b92892",
    "tags": [],
    "deepnote_cell_type": "markdown",
    "deepnote_cell_height": 122.78125
   }
  },
  {
   "cell_type": "code",
   "metadata": {
    "cell_id": "0e56c0508a16468b85232c534c060d19",
    "tags": [],
    "deepnote_to_be_reexecuted": false,
    "source_hash": "b623e53d",
    "execution_start": 1652717473259,
    "execution_millis": 1,
    "deepnote_cell_type": "code",
    "deepnote_cell_height": 66
   },
   "source": "",
   "execution_count": null,
   "outputs": []
  },
  {
   "cell_type": "markdown",
   "source": "### Exercise 7:\n\nReport the metric value obtained by your model over the test dataset (`df_test`) for the metric you selected to compare classification models. Do you think that metric is good enough?",
   "metadata": {
    "cell_id": "0dcb10cd209c4275be97316b8ffb5449",
    "tags": [],
    "deepnote_cell_type": "markdown",
    "deepnote_cell_height": 122.78125
   }
  },
  {
   "cell_type": "code",
   "metadata": {
    "cell_id": "110c23fab73446ddad4978b4f0c35672",
    "tags": [],
    "deepnote_to_be_reexecuted": false,
    "source_hash": "b623e53d",
    "execution_start": 1652717473302,
    "execution_millis": 1,
    "deepnote_cell_type": "code",
    "deepnote_cell_height": 66
   },
   "source": "",
   "execution_count": null,
   "outputs": []
  },
  {
   "cell_type": "markdown",
   "source": "<a style='text-decoration:none;line-height:16px;display:flex;color:#5B5B62;padding:10px;justify-content:end;' href='https://deepnote.com?utm_source=created-in-deepnote-cell&projectId=96262903-a28f-4719-a328-dc59e3cfa77f' target=\"_blank\">\n<img alt='Created in deepnote.com' style='display:inline;max-height:16px;margin:0px;margin-right:7.5px;' src='data:image/svg+xml;base64,PD94bWwgdmVyc2lvbj0iMS4wIiBlbmNvZGluZz0iVVRGLTgiPz4KPHN2ZyB3aWR0aD0iODBweCIgaGVpZ2h0PSI4MHB4IiB2aWV3Qm94PSIwIDAgODAgODAiIHZlcnNpb249IjEuMSIgeG1sbnM9Imh0dHA6Ly93d3cudzMub3JnLzIwMDAvc3ZnIiB4bWxuczp4bGluaz0iaHR0cDovL3d3dy53My5vcmcvMTk5OS94bGluayI+CiAgICA8IS0tIEdlbmVyYXRvcjogU2tldGNoIDU0LjEgKDc2NDkwKSAtIGh0dHBzOi8vc2tldGNoYXBwLmNvbSAtLT4KICAgIDx0aXRsZT5Hcm91cCAzPC90aXRsZT4KICAgIDxkZXNjPkNyZWF0ZWQgd2l0aCBTa2V0Y2guPC9kZXNjPgogICAgPGcgaWQ9IkxhbmRpbmciIHN0cm9rZT0ibm9uZSIgc3Ryb2tlLXdpZHRoPSIxIiBmaWxsPSJub25lIiBmaWxsLXJ1bGU9ImV2ZW5vZGQiPgogICAgICAgIDxnIGlkPSJBcnRib2FyZCIgdHJhbnNmb3JtPSJ0cmFuc2xhdGUoLTEyMzUuMDAwMDAwLCAtNzkuMDAwMDAwKSI+CiAgICAgICAgICAgIDxnIGlkPSJHcm91cC0zIiB0cmFuc2Zvcm09InRyYW5zbGF0ZSgxMjM1LjAwMDAwMCwgNzkuMDAwMDAwKSI+CiAgICAgICAgICAgICAgICA8cG9seWdvbiBpZD0iUGF0aC0yMCIgZmlsbD0iIzAyNjVCNCIgcG9pbnRzPSIyLjM3NjIzNzYyIDgwIDM4LjA0NzY2NjcgODAgNTcuODIxNzgyMiA3My44MDU3NTkyIDU3LjgyMTc4MjIgMzIuNzU5MjczOSAzOS4xNDAyMjc4IDMxLjY4MzE2ODMiPjwvcG9seWdvbj4KICAgICAgICAgICAgICAgIDxwYXRoIGQ9Ik0zNS4wMDc3MTgsODAgQzQyLjkwNjIwMDcsNzYuNDU0OTM1OCA0Ny41NjQ5MTY3LDcxLjU0MjI2NzEgNDguOTgzODY2LDY1LjI2MTk5MzkgQzUxLjExMjI4OTksNTUuODQxNTg0MiA0MS42NzcxNzk1LDQ5LjIxMjIyODQgMjUuNjIzOTg0Niw0OS4yMTIyMjg0IEMyNS40ODQ5Mjg5LDQ5LjEyNjg0NDggMjkuODI2MTI5Niw0My4yODM4MjQ4IDM4LjY0NzU4NjksMzEuNjgzMTY4MyBMNzIuODcxMjg3MSwzMi41NTQ0MjUgTDY1LjI4MDk3Myw2Ny42NzYzNDIxIEw1MS4xMTIyODk5LDc3LjM3NjE0NCBMMzUuMDA3NzE4LDgwIFoiIGlkPSJQYXRoLTIyIiBmaWxsPSIjMDAyODY4Ij48L3BhdGg+CiAgICAgICAgICAgICAgICA8cGF0aCBkPSJNMCwzNy43MzA0NDA1IEwyNy4xMTQ1MzcsMC4yNTcxMTE0MzYgQzYyLjM3MTUxMjMsLTEuOTkwNzE3MDEgODAsMTAuNTAwMzkyNyA4MCwzNy43MzA0NDA1IEM4MCw2NC45NjA0ODgyIDY0Ljc3NjUwMzgsNzkuMDUwMzQxNCAzNC4zMjk1MTEzLDgwIEM0Ny4wNTUzNDg5LDc3LjU2NzA4MDggNTMuNDE4MjY3Nyw3MC4zMTM2MTAzIDUzLjQxODI2NzcsNTguMjM5NTg4NSBDNTMuNDE4MjY3Nyw0MC4xMjg1NTU3IDM2LjMwMzk1NDQsMzcuNzMwNDQwNSAyNS4yMjc0MTcsMzcuNzMwNDQwNSBDMTcuODQzMDU4NiwzNy43MzA0NDA1IDkuNDMzOTE5NjYsMzcuNzMwNDQwNSAwLDM3LjczMDQ0MDUgWiIgaWQ9IlBhdGgtMTkiIGZpbGw9IiMzNzkzRUYiPjwvcGF0aD4KICAgICAgICAgICAgPC9nPgogICAgICAgIDwvZz4KICAgIDwvZz4KPC9zdmc+' > </img>\nCreated in <span style='font-weight:600;margin-left:4px;'>Deepnote</span></a>",
   "metadata": {
    "tags": [],
    "created_in_deepnote_cell": true,
    "deepnote_cell_type": "markdown"
   }
  }
 ],
 "nbformat": 4,
 "nbformat_minor": 2,
 "metadata": {
  "orig_nbformat": 2,
  "deepnote": {},
  "deepnote_notebook_id": "bb4af31f-eb86-4134-acc3-ca49a1e3dfce",
  "deepnote_execution_queue": []
 }
}